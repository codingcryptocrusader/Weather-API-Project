{
 "cells": [
  {
   "cell_type": "code",
   "execution_count": null,
   "id": "f9591c1c",
   "metadata": {},
   "outputs": [],
   "source": [
    "baseurl = \"https://www.weatherapi.com/docs/#\"\n",
    "def api_key():\n",
    "\n",
    "api_key ="
   ]
  },
  {
   "cell_type": "code",
   "execution_count": null,
   "id": "766432a2",
   "metadata": {},
   "outputs": [],
   "source": [
    "# http://api.weatherapi.com/v1/current.json?key=<YOUR_API_KEY>&q=London\n"
   ]
  },
  {
   "cell_type": "code",
   "execution_count": null,
   "id": "01e05f04",
   "metadata": {},
   "outputs": [],
   "source": [
    "def requests_get(baseurl):\n",
    "    baseurl = f\"http://api.weatherapi.com/v1/current.json?key={api_key}&q={city}\"\n",
    "    response = requests.get(baseurl)\n"
   ]
  },
  {
   "cell_type": "code",
   "execution_count": null,
   "id": "a8d99ba4",
   "metadata": {},
   "outputs": [],
   "source": [
    "import requests\n",
    "import pandas as pd"
   ]
  },
  {
   "cell_type": "code",
   "execution_count": null,
   "id": "aa6201ba",
   "metadata": {},
   "outputs": [],
   "source": [
    "city = \"Louisville\"\n",
    "baseurl = f\"http://api.weatherapi.com/v1/current.json?key=[api_key]&q=Louisville\"\n",
    "def requests_get(baseurl):\n",
    "    baseurl = f\"http://api.weatherapi.com/v1/current.json?key={api_key}&q={city}\"\n",
    "response = requests.get(baseurl)\n"
   ]
  },
  {
   "cell_type": "code",
   "execution_count": null,
   "id": "4394ddff",
   "metadata": {},
   "outputs": [],
   "source": [
    "response.status_code"
   ]
  },
  {
   "cell_type": "code",
   "execution_count": null,
   "id": "4a4fbd9d",
   "metadata": {},
   "outputs": [],
   "source": [
    "data = response.json()\n",
    "data"
   ]
  },
  {
   "cell_type": "code",
   "execution_count": null,
   "id": "a8617f25",
   "metadata": {},
   "outputs": [],
   "source": [
    "\n",
    "current = data ('current')\n",
    "location = data ('location')\n",
    "temp_f = current ['temp_f']\n",
    "wind_degree = current ['wind_degree']\n",
    "humidity = current ['humidity']\n"
   ]
  },
  {
   "cell_type": "code",
   "execution_count": null,
   "id": "0383583f",
   "metadata": {},
   "outputs": [],
   "source": [
    "temp_f, humidity"
   ]
  },
  {
   "cell_type": "code",
   "execution_count": null,
   "id": "22c9ec6f",
   "metadata": {},
   "outputs": [],
   "source": [
    "def get_weather(city):\n",
    "    url = f\"http://api.weatherapi.com/v1/current.json?key=['api_key']&q=Louisville\"\n",
    "    response = requests.get(url)\n",
    "    if response.status_code ==200:\n",
    "def data = response.json()\n",
    "      data = response.json()\n",
    "      current = data ['current']\n",
    "location = data ['location']\n",
    "temp_f = current ['temp_f']\n",
    "wind_degree = current ['wind_degree']\n",
    "humidity = current ['humidity']\n"
   ]
  },
  {
   "cell_type": "code",
   "execution_count": null,
   "id": "a07a22a2",
   "metadata": {},
   "outputs": [],
   "source": [
    "else:\n",
    "print (f\"Error fetching data for (city):(response.status_code)\")\n"
   ]
  },
  {
   "cell_type": "code",
   "execution_count": null,
   "id": "c83ffc17",
   "metadata": {},
   "outputs": [],
   "source": [
    "get_weather(\"Louisville\")"
   ]
  },
  {
   "cell_type": "code",
   "execution_count": null,
   "id": "8e23bc2d",
   "metadata": {},
   "outputs": [],
   "source": [
    "cities = [\"Lexington\", \"Louisville,\" \"Nashville,\" \"Memphis,\" \"Los Angeles,\"]\n",
    "weather_data = []\n",
    "if response.status_code ==200:\n",
    "    data = response.json()\n",
    "    weather_data.append(get_weather(city))"
   ]
  },
  {
   "cell_type": "code",
   "execution_count": null,
   "id": "5e06ace4",
   "metadata": {},
   "outputs": [],
   "source": [
    "for city in cities:\n",
    "    url = f\"http://api.weatherapi.com/v1/current.json?key={'tyler_key'}&q={city}\"\n",
    "    response = requests.get(url)\n",
    "cities = [\"Lexington\", \"Louisville,\" \"Nashville,\" \"Memphis,\", \"Los Angeles,\"]\n",
    "weather_data = []\n",
    "    if response.status_code ==200:\n",
    "    data = response.json()\n",
    "    weather_data.append[\"City\": data['location'],['name']\n",
    "                        \"Temperature\": data['current'],['temp_f'])])\n",
    "                        \"Condition\": data [\"Current\"],[\"Condition\"]\n",
    "                        \"Humidity\": data [\"Current\"], [\"Condition\"]\n",
    "                        \"Wind Speed\": data [\"Current\"], [\"Wind Mph\"]}]\n",
    "    else: print (\"Error fetching data\")"
   ]
  },
  {
   "cell_type": "code",
   "execution_count": null,
   "id": "2e2695c9",
   "metadata": {},
   "outputs": [],
   "source": [
    "def (weather_data):\n",
    "    df = pd.DataFrame(weather_data)\n",
    "    return df"
   ]
  },
  {
   "cell_type": "code",
   "execution_count": null,
   "id": "40d41744",
   "metadata": {},
   "outputs": [],
   "source": [
    "weather_df = pd.dataframe(weather_data)"
   ]
  },
  {
   "cell_type": "code",
   "execution_count": null,
   "id": "29f9c318",
   "metadata": {},
   "outputs": [],
   "source": [
    "weather_df.head()"
   ]
  },
  {
   "cell_type": "code",
   "execution_count": null,
   "id": "f73639f9",
   "metadata": {},
   "outputs": [],
   "source": [
    "weather_df.to_csv (\"sample_weather_data.csv\", index=False)"
   ]
  },
  {
   "cell_type": "code",
   "execution_count": null,
   "id": "5cf9d120",
   "metadata": {},
   "outputs": [],
   "source": [
    "import requests\n",
    "import pandas as pd\n",
    "import dateline import datetime"
   ]
  },
  {
   "cell_type": "code",
   "execution_count": null,
   "id": "fb2bfa7b",
   "metadata": {},
   "outputs": [],
   "source": [
    "api_key =\n",
    "baseurl = \"http://api.weatherapi.com/v1/\"\n",
    "# f\"http://api.weatherapi.com/v1/current.json?key={api_key}&q={city}\"\n",
    "city = \"Louisville\""
   ]
  },
  {
   "cell_type": "code",
   "execution_count": null,
   "id": "fe99de09",
   "metadata": {},
   "outputs": [],
   "source": [
    "response = requests.get(f\"http://api.weatherapi.com/v1/current.json?key={api_key}&q={city}\")\n",
    "response.status_code"
   ]
  },
  {
   "cell_type": "code",
   "execution_count": null,
   "id": "43e74a0b",
   "metadata": {},
   "outputs": [],
   "source": [
    "data = response.json()\n",
    "data ['current']"
   ]
  },
  {
   "cell_type": "code",
   "execution_count": null,
   "id": "c15d5046",
   "metadata": {},
   "outputs": [],
   "source": [
    "forecast url =f\"{baseurl}forecast.json\" key={api_key}&q={city}&days=3\"\n",
    "forecast_response = requests.get(forecast_url)\n",
    "forecast_response.status_code"
   ]
  },
  {
   "cell_type": "code",
   "execution_count": null,
   "id": "c6a2e94f",
   "metadata": {},
   "outputs": [],
   "source": [
    "forecast_data = forecast_response.json()\n",
    "forecast = forecast_data['forecast'] ['forecastday']\n",
    "\n"
   ]
  },
  {
   "cell_type": "code",
   "execution_count": null,
   "id": "ec522005",
   "metadata": {},
   "outputs": [],
   "source": [
    "forecast_3_days_summary = []\n",
    "for day in forecast:\n",
    "  forecast_3_days_summary.append(f\"{day['date']}: High {day['day']['maxtemp_f']}F, Low: {day['day']['mintemp_f']}F, Condition: {day['day']['condition']['text']}\")"
   ]
  },
  {
   "cell_type": "code",
   "execution_count": null,
   "id": "9d75a3d6",
   "metadata": {},
   "outputs": [],
   "source": [
    "forecast_3_days_summary = []\n",
    "for day in forecast:\n",
    "    date_obj = datetime.strptime([day['date']) '&Y, %n, %d')\n",
    "    formatted date = date_obj.strltime(%A', %B, %/d')\n",
    "    forecast_3_days_Summary.append(f\"formatted_date\"): High {day['day']['maxtemp_f']}F / Low: {day['day']['mintemp_f']}F, Condition: {day['day']['condition']['text']}\")\n",
    "    forecast_3_days_summary\n",
    "\n",
    "\n",
    "\n"
   ]
  },
  {
   "cell_type": "code",
   "execution_count": null,
   "id": "7c43802d",
   "metadata": {},
   "outputs": [],
   "source": [
    "today = pd.timestamp.now().strftime(\"&Y &m %d\")\n",
    "astronomy_url = f\"[baseurl]astronomy.json?key-(api_key)&q-(city)&dt-[today]\"\n"
   ]
  },
  {
   "cell_type": "code",
   "execution_count": null,
   "id": "edc4c3f1",
   "metadata": {},
   "outputs": [],
   "source": [
    "def get city data(city, api_key)\n",
    "url = f\"{baseurl}current.json?key={api_key}&q={city}\"\n",
    "response = requests.get(url)\n",
    "if response.status_code ==200:\n",
    "data = response.json()\n",
    "current = data ('current')\n",
    "Air Quality = data ('current') ['air_quality']\n",
    "marine weather and tide data = data ('marine')\n",
    "Pollen data = data ('pollen')\n",
    "else:\n",
    "print (f\"Error fetching data for (city):(response.status_code)\")\n",
    "\n",
    "#get current weather\n",
    "def get_current_weather(city, api_key):\n",
    "    url = f\"{baseurl}current.json?key={api_key}&q={city}\"\n",
    "    response = requests.get(url)\n",
    "    if response.status_code ==200:\n",
    "      data = response.json()\n",
    "      current = data ['current']\n",
    "      location = data ['location']\n",
    "      {\n",
    "          \"City\": location['name'],\n",
    "          \"Region\": location['region'],\n",
    "          \"Country\": location['country'],\n",
    "          \"Temperature_F\": current['temp_f'],\n",
    "          \"Condition\": current['condition']['text'],\n",
    "          \"Humidity\": current['humidity'],\n",
    "          \"Wind_Mph\": current['wind_mph']\n",
    "      }\n",
    "    else:\n",
    "        print (f\"Error fetching data for {city}: {response.status_code}\")\n",
    "\n",
    "#get a forecast\n",
    "def get_forecast(city, api_key, days=3):\n",
    "    url = f\"{baseurl}forecast.json?key={api_key}&q={city}&days={days}\"\n",
    "    response = requests.get(url)\n",
    "    if response.status_code ==200:\n",
    "      data = response.json()\n",
    "      forecast = data['forecast']['forecastday']\n",
    "      forecast_summary = []\n",
    "      for day in forecast:\n",
    "          date_obj = datetime.strptime(day['date'], '%Y-%m-%d')\n",
    "          formatted_date = date_obj.strftime('%A, %B %d')\n",
    "          forecast_summary.append(f\"{formatted_date}: High {day['day']['maxtemp_f']}F / Low: {day['day']['mintemp_f']}F, Condition: {day['day']['condition']['text']}\")\n",
    "      return forecast_summary\n",
    "    else:\n",
    "        print (f\"Error fetching forecast for {city}: {response.status_code}\")\n",
    "\n",
    "#get astronomical data\n",
    "def get_astronomy(city, api_key, date):\n",
    "    url = f\"{baseurl}astronomy.json?key={api_key}&q={city}&dt={date}\"\n",
    "    response = requests.get(url)\n",
    "    if response.status_code ==200:\n",
    "      data = response.json()\n",
    "      astronomy = data['astronomy']['astro']\n",
    "      {\n",
    "          \"Sunrise\": astronomy['sunrise'],\n",
    "          \"Sunset\": astronomy['sunset'],\n",
    "          \"Moonrise\": astronomy['moonrise'],\n",
    "          \"Moonset\": astronomy['moonset'],\n",
    "          \"Moon Phase\": astronomy['moon_phase']\n",
    "      }\n",
    "    else:\n",
    "        print (f\"Error fetching astronomy data for {city}: {response.status_code}\"\n",
    "\n",
    "#get anything else you want (challenge)\n",
    "def get_solar_irradiance(city, api_key):\n",
    "    url = f\"{baseurl}solar_irradiance.json?key={api_key}&q={city}\"\n",
    "    response = requests.get(url)\n",
    "    if response.status_code ==200:\n",
    "      data = response.json()\n",
    "      solar_irradiance = data['solar_irradiance']\n",
    "      return {\n",
    "          \"Solar Irradiance\": solar_irradiance['solar_irradiance']\n",
    "      }\n",
    "#Build A summary for the city, save summary into A dictionary\n",
    "def get_city_data(city, api_key):\n",
    "    city_data = {}\n",
    "    current_weather = get_current_weather(city, api_key)\n",
    "    if current_weather:\n",
    "        city_data.update(current_weather)\n",
    "    forecast = get_forecast(city, api_key)\n",
    "    if forecast:\n",
    "        city_data['3 Day Forecast'] = forecast\n",
    "    today = pd.Timestamp.now().strftime('%Y-%m-%d')\n",
    "    astronomy = get_astronomy(city, api_key, today)\n",
    "    if astronomy:\n",
    "        city_data.update(astronomy)\n",
    "    solar_irradiance = get_solar_irradiance(city, api_key)\n",
    "    if solar_irradiance:\n",
    "        city_data.update(solar_irradiance)\n",
    "    return city_data\n"
   ]
  }
 ],
 "metadata": {
  "kernelspec": {
   "display_name": "Python 3",
   "language": "python",
   "name": "python3"
  },
  "language_info": {
   "codemirror_mode": {
    "name": "ipython",
    "version": 3
   },
   "file_extension": ".py",
   "mimetype": "text/x-python",
   "name": "python",
   "nbconvert_exporter": "python",
   "pygments_lexer": "ipython3",
   "version": "3.12.10"
  }
 },
 "nbformat": 4,
 "nbformat_minor": 5
}
